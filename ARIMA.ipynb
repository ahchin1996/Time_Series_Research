{
 "cells": [
  {
   "cell_type": "code",
   "execution_count": 1,
   "metadata": {},
   "outputs": [],
   "source": [
    "# ARIMA Model\n",
    "from statsmodels.tsa.arima_model import ARIMA\n",
    "import statsmodels.api as sm\n",
    "from statsmodels.graphics.tsaplots import plot_acf, plot_pacf\n",
    "import matplotlib.pyplot as plt\n",
    "from datetime import datetime\n",
    "from math import sqrt\n",
    "import pandas as pd\n",
    "import numpy as np\n",
    "from sklearn.metrics import mean_squared_error\n",
    "from statsmodels.tsa.stattools import adfuller"
   ]
  },
  {
   "cell_type": "code",
   "execution_count": 2,
   "metadata": {},
   "outputs": [],
   "source": [
    "fd_path = 'D:/Time_Series_Research/new_data/DJI/DJI_2008.csv'\n",
    "df = pd.read_csv(fd_path, sep=',', header=0)"
   ]
  },
  {
   "cell_type": "code",
   "execution_count": 3,
   "metadata": {},
   "outputs": [
    {
     "data": {
      "text/plain": [
       "Date            object\n",
       "Close          float64\n",
       "Volume           int64\n",
       "MA_5           float64\n",
       "Ma20           float64\n",
       "BBands_up      float64\n",
       "BBands_down    float64\n",
       "RSI            float64\n",
       "EMA_12         float64\n",
       "EMA_26         float64\n",
       "DIF            float64\n",
       "DEM            float64\n",
       "OSC            float64\n",
       "RDP            float64\n",
       "BIAS6          float64\n",
       "BIAS12         float64\n",
       "BIas24         float64\n",
       "psy12          float64\n",
       "psy24          float64\n",
       "W%R            float64\n",
       "%K             float64\n",
       "%D             float64\n",
       "PROC           float64\n",
       "MO             float64\n",
       "LAG            float64\n",
       "dtype: object"
      ]
     },
     "execution_count": 3,
     "metadata": {},
     "output_type": "execute_result"
    }
   ],
   "source": [
    "df.dtypes"
   ]
  },
  {
   "cell_type": "code",
   "execution_count": 4,
   "metadata": {},
   "outputs": [
    {
     "name": "stdout",
     "output_type": "stream",
     "text": [
      "Whic feature you want to choose？all\n",
      "Input your year?2008\n"
     ]
    }
   ],
   "source": [
    "str_in = input(\"Whic feature you want to choose？\")\n",
    "year = eval(input(\"Input your year?\"))"
   ]
  },
  {
   "cell_type": "code",
   "execution_count": 5,
   "metadata": {
    "scrolled": false
   },
   "outputs": [
    {
     "name": "stdout",
     "output_type": "stream",
     "text": [
      "Index(['Date', 'Close', 'Volume', 'MA_5', 'Ma20', 'BBands_up', 'BBands_down',\n",
      "       'RSI', 'EMA_12', 'EMA_26', 'DIF', 'DEM', 'OSC', 'RDP', 'BIAS6',\n",
      "       'BIAS12', 'BIas24', 'psy12', 'psy24', 'W%R', '%K', '%D', 'PROC', 'MO',\n",
      "       'LAG'],\n",
      "      dtype='object') \n",
      "\n",
      "Number of rows and columns: (252, 25) \n",
      "\n",
      "212 \n",
      "\n"
     ]
    }
   ],
   "source": [
    "if str_in.strip().lower() == \"all\":\n",
    "    new_df = df\n",
    "else:\n",
    "    choose_feature = [int(n) for n in str_in.split()]\n",
    "    new_df = df[['Date', 'Close']]\n",
    "    for i in range(0,len(choose_feature)):\n",
    "        new_df = pd.concat([new_df, df.iloc[:, choose_feature[i]]], axis=1)\n",
    "\n",
    "print(new_df.columns,'\\n')\n",
    "\n",
    "date_array = pd.to_datetime(new_df['Date'])\n",
    "print(\"Number of rows and columns:\", new_df.shape,'\\n')\n",
    "\n",
    "split_no = 0\n",
    "while date_array.iloc[split_no] < datetime(year, 11,1, 0, 0):\n",
    "    split_no +=1\n",
    "print(split_no,'\\n')\n",
    "\n",
    "new_df.drop(['Date'], axis=1, inplace=True)\n",
    "new_df.head(5)\n",
    "\n",
    "# sc_df = MinMaxScaler(feature_range = (0, 1))\n",
    "# new_df = sc_df.fit_transform(new_df)\n",
    "\n",
    "new_df = new_df.values\n",
    "train_set = new_df[:split_no, :]\n",
    "test_set = new_df[split_no:, :]\n",
    "\n",
    "train_data = train_set[:,1:]\n",
    "train_label = train_set[:,0]\n",
    "test_data = test_set[:,1:]\n",
    "test_label = test_set[:,0]"
   ]
  },
  {
   "cell_type": "code",
   "execution_count": 6,
   "metadata": {},
   "outputs": [
    {
     "name": "stdout",
     "output_type": "stream",
     "text": [
      "Train_data shape : (212, 23)\n",
      "Train_label shape :(212,)\n",
      "Test_data shape :(40, 23)\n",
      "Test_label shape :(40,)\n",
      "\n"
     ]
    }
   ],
   "source": [
    "# train_label = train_label.reshape(train_label.shape[0],1)\n",
    "# test_label = test_label.reshape(test_label.shape[0],1)\n",
    "print(f\"Train_data shape : {train_data.shape}\\n\"\n",
    "      f\"Train_label shape :{train_label.shape}\\n\"\n",
    "      f\"Test_data shape :{test_data.shape}\\n\"\n",
    "      f\"Test_label shape :{test_label.shape}\\n\")"
   ]
  },
  {
   "cell_type": "code",
   "execution_count": 7,
   "metadata": {
    "scrolled": false
   },
   "outputs": [
    {
     "data": {
      "text/plain": [
       "Date\n",
       "2008-01-02    13043.959961\n",
       "2008-01-03    13056.719727\n",
       "2008-01-04    12800.179688\n",
       "2008-01-07    12827.490234\n",
       "2008-01-08    12589.070313\n",
       "Name: Close, dtype: float64"
      ]
     },
     "execution_count": 7,
     "metadata": {},
     "output_type": "execute_result"
    }
   ],
   "source": [
    "#原始函數\n",
    "df_close = df['Close']\n",
    "df_close.index = date_array\n",
    "df_close.head()"
   ]
  },
  {
   "cell_type": "code",
   "execution_count": 8,
   "metadata": {
    "scrolled": false
   },
   "outputs": [
    {
     "data": {
      "image/png": "[encoded data removed]",
      "text/plain": [
       "<Figure size 576x576 with 2 Axes>"
      ]
     },
     "metadata": {
      "needs_background": "light"
     },
     "output_type": "display_data"
    }
   ],
   "source": [
    "#p 和 q 階數確定，ACF和PACF\n",
    "flg , ax = plt.subplots(2,1,sharex = False ,sharey = False)\n",
    "flg.set_size_inches(8, 8)\n",
    "flg.subplots_adjust(hspace=0.6, wspace=0.4)\n",
    "flg= plot_acf(df_close, lags= 20 ,ax=ax[0])\n",
    "flg= plot_pacf(df_close, lags= 12 ,ax=ax[1])\n",
    "plt.show()"
   ]
  },
  {
   "cell_type": "code",
   "execution_count": 9,
   "metadata": {
    "scrolled": true
   },
   "outputs": [
    {
     "data": {
      "text/plain": [
       "(-0.27922894654179636, 0.9283950521204438)"
      ]
     },
     "execution_count": 9,
     "metadata": {},
     "output_type": "execute_result"
    }
   ],
   "source": [
    "sm.tsa.stattools.adfuller(df_close)[:2]"
   ]
  },
  {
   "cell_type": "code",
   "execution_count": 10,
   "metadata": {
    "scrolled": false
   },
   "outputs": [
    {
     "data": {
      "image/png": "[encoded data removed]",
      "text/plain": [
       "<Figure size 432x288 with 1 Axes>"
      ]
     },
     "metadata": {
      "needs_background": "light"
     },
     "output_type": "display_data"
    },
    {
     "name": "stdout",
     "output_type": "stream",
     "text": [
      "Results of dickey fuller test\n",
      "Test Statistics                 -0.279229\n",
      "p-value                          0.928395\n",
      "No. of lags used                 2.000000\n",
      "Number of observations used    249.000000\n",
      "critical value (1%)             -3.456888\n",
      "critical value (5%)             -2.873219\n",
      "critical value (10%)            -2.572994\n",
      "dtype: float64\n"
     ]
    }
   ],
   "source": [
    "# Test for staionarity\n",
    "def test_stationarity(timeseries):\n",
    "    # Determing rolling statistics\n",
    "    rolmean = timeseries.rolling(12).mean()\n",
    "    rolstd = timeseries.rolling(12).std()\n",
    "    # Plot rolling statistics:\n",
    "    plt.plot(date_array,timeseries, color='blue', label='Original')\n",
    "    plt.plot(date_array,rolmean, color='red', label='Rolling Mean')\n",
    "#     plt.plot(date_array,rolstd, color='black', label='Rolling Std')\n",
    "    plt.xticks(rotation=30)\n",
    "    plt.legend(loc='best')\n",
    "    plt.title('Rolling Mean and Standard Deviation')\n",
    "    plt.show(block=False)\n",
    "    \n",
    "    # Test for staionarity\n",
    "    print(\"Results of dickey fuller test\")\n",
    "    adft = adfuller(timeseries, autolag='AIC')\n",
    "    # output for dft will give us without defining what the values are.\n",
    "    # hence we manually write what values does it explains using a for loop\n",
    "    output = pd.Series(adft[0:4],\n",
    "                       index=['Test Statistics', 'p-value', 'No. of lags used', 'Number of observations used'])\n",
    "    for key, values in adft[4].items():\n",
    "        output['critical value (%s)' % key] = values\n",
    "    print(output)\n",
    "\n",
    "\n",
    "test_stationarity(df_close)"
   ]
  },
  {
   "cell_type": "code",
   "execution_count": 11,
   "metadata": {
    "scrolled": false
   },
   "outputs": [],
   "source": [
    "#一階方差、二階方差\n",
    "diff1 = df_close.diff(1)[1:]\n",
    "diff2 = diff1.diff(1)[1:]"
   ]
  },
  {
   "cell_type": "code",
   "execution_count": 12,
   "metadata": {
    "scrolled": false
   },
   "outputs": [
    {
     "data": {
      "image/png": "[encoded data removed]",
      "text/plain": [
       "<Figure size 720x720 with 3 Axes>"
      ]
     },
     "metadata": {
      "needs_background": "light"
     },
     "output_type": "display_data"
    }
   ],
   "source": [
    "#將序列平穩(差分法確定d)\n",
    "flg ,ax= plt.subplots(3,1,sharex=False,sharey=False)\n",
    "flg.set_size_inches(10,10)\n",
    "flg.subplots_adjust(hspace=0.6, wspace=0.4)\n",
    "ax[0].plot(date_array,df_close,'b-',label = 'price')\n",
    "ax[0].grid(True)\n",
    "ax[0].tick_params(axis='x',rotation = 30)\n",
    "ax[0].set_title(\"Price\")\n",
    "# ax[0].legend(loc='best')\n",
    "ax[1].plot(diff1, 'r-')\n",
    "ax[1].set_title(\"Diff 1\")\n",
    "ax[2].plot(diff2, 'g-')\n",
    "ax[2].set_title(\"Diff 2\")\n",
    "plt.xlabel('Dates')\n",
    "plt.show()"
   ]
  },
  {
   "cell_type": "code",
   "execution_count": 13,
   "metadata": {
    "scrolled": true
   },
   "outputs": [
    {
     "name": "stdout",
     "output_type": "stream",
     "text": [
      "(-14.751058107483201, 2.48464624850075e-27)\n",
      "(-7.245521605839564, 1.8366245896162292e-10)\n"
     ]
    }
   ],
   "source": [
    "print(sm.tsa.stattools.adfuller(diff1)[:2])\n",
    "print(sm.tsa.stattools.adfuller(diff2)[:2])"
   ]
  },
  {
   "cell_type": "code",
   "execution_count": 14,
   "metadata": {
    "scrolled": false
   },
   "outputs": [
    {
     "data": {
      "image/png": "[encoded data removed]",
      "text/plain": [
       "<Figure size 576x576 with 2 Axes>"
      ]
     },
     "metadata": {
      "needs_background": "light"
     },
     "output_type": "display_data"
    }
   ],
   "source": [
    "#一階方差，ACF和PACF\n",
    "flg , ax = plt.subplots(2,1,sharex = False ,sharey = False)\n",
    "flg.set_size_inches(8, 8)\n",
    "flg.subplots_adjust(hspace=0.6, wspace=0.4)\n",
    "flg= plot_acf(diff1, lags= 20 ,ax=ax[0])\n",
    "flg= plot_pacf(diff1, lags= 12 ,ax=ax[1])\n",
    "plt.show()"
   ]
  },
  {
   "cell_type": "markdown",
   "metadata": {},
   "source": [
    "# ARIMA TEST MODEL 1"
   ]
  },
  {
   "cell_type": "markdown",
   "metadata": {},
   "source": [
    "from pmdarima.arima import auto_arima"
   ]
  },
  {
   "cell_type": "markdown",
   "metadata": {},
   "source": [
    "model = auto_arima(train_label,exogenous=train_data,start_p=1,d=1,start_q=0)model = auto_arima(train_label,start_p=1,d=1,start_q=0)"
   ]
  },
  {
   "cell_type": "markdown",
   "metadata": {
    "scrolled": false
   },
   "source": [
    "model.fit(test_label)"
   ]
  },
  {
   "cell_type": "markdown",
   "metadata": {},
   "source": [
    "model.summary()"
   ]
  },
  {
   "cell_type": "markdown",
   "metadata": {},
   "source": [
    "preds, conf_int = model.predict(n_periods=test_label.shape[0], return_conf_int=True)"
   ]
  },
  {
   "cell_type": "markdown",
   "metadata": {},
   "source": [
    "new_test_label = np.array(preds)\n",
    "new_test_label = new_test_label.reshape(new_test_label.shape[0],1)\n",
    "new_test_set = np.concatenate([test_data,new_test_label],axis = 1)\n",
    "new_test_set = sc_df.inverse_transform(new_test_set)\n",
    "new_test_label = new_test_set[:,new_test_set.shape[1]-1]\n",
    "\n",
    "\n",
    "test_label = df.Close[split_no:]\n",
    "\n",
    "testScore = sqrt(mean_squared_error(test_label, new_test_label))\n",
    "print('Test RMSE: %.4f' % (testScore))\n",
    "\n",
    "mape = sum(np.abs((test_label - new_test_label)/test_label))/split_no*100\n",
    "print('Test MAPE: %.4f' % (mape))\n",
    "\n",
    "flg ,ax = plt.subplots(1,1)\n",
    "plt.plot(date_array[split_no:], test_label, color ='red', label ='Real Stock Price')\n",
    "plt.plot(date_array[split_no:], new_test_label, color ='blue', label ='Predicted Stock Price')\n",
    "plt.title('Stock Price Prediction')\n",
    "plt.xlabel('Time')\n",
    "plt.xticks(rotation = 30)\n",
    "plt.ylabel('Stock Price')\n",
    "plt.legend()\n",
    "plt.show()\n"
   ]
  },
  {
   "cell_type": "markdown",
   "metadata": {},
   "source": [
    "# ARIMA TEST MODEL 2"
   ]
  },
  {
   "cell_type": "code",
   "execution_count": 18,
   "metadata": {},
   "outputs": [],
   "source": [
    "arima010 =  sm.tsa.arima.ARIMA(endog = train_label,exog = train_data,order = (0,1,0))"
   ]
  },
  {
   "cell_type": "code",
   "execution_count": 20,
   "metadata": {},
   "outputs": [
    {
     "name": "stderr",
     "output_type": "stream",
     "text": [
      "C:\\Users\\cooke\\.conda\\envs\\tfgpu\\lib\\site-packages\\statsmodels\\base\\model.py:568: ConvergenceWarning: Maximum Likelihood optimization failed to converge. Check mle_retvals\n",
      "  \"Check mle_retvals\", ConvergenceWarning)\n"
     ]
    }
   ],
   "source": [
    "model_fit = arima010.fit()"
   ]
  },
  {
   "cell_type": "code",
   "execution_count": 21,
   "metadata": {},
   "outputs": [
    {
     "data": {
      "text/plain": [
       "(1, 23)"
      ]
     },
     "execution_count": 21,
     "metadata": {},
     "output_type": "execute_result"
    }
   ],
   "source": [
    "x = test_data[0, :]  \n",
    "x = x.reshape(1,x.shape[0])  \n",
    "x.shape"
   ]
  },
  {
   "cell_type": "code",
   "execution_count": 22,
   "metadata": {},
   "outputs": [],
   "source": [
    "forecast = model_fit.forecast(exog = x)"
   ]
  },
  {
   "cell_type": "code",
   "execution_count": 23,
   "metadata": {},
   "outputs": [
    {
     "data": {
      "text/plain": [
       "9319.830078000059"
      ]
     },
     "execution_count": 23,
     "metadata": {},
     "output_type": "execute_result"
    }
   ],
   "source": [
    "forecast[0]"
   ]
  },
  {
   "cell_type": "code",
   "execution_count": 24,
   "metadata": {},
   "outputs": [
    {
     "data": {
      "text/plain": [
       "array([9319.830078])"
      ]
     },
     "execution_count": 24,
     "metadata": {},
     "output_type": "execute_result"
    }
   ],
   "source": [
    "test_label[0]"
   ]
  },
  {
   "cell_type": "code",
   "execution_count": 15,
   "metadata": {},
   "outputs": [],
   "source": [
    "new_test_label = []\n",
    "all_length = len(new_df)\n",
    "n = split_no"
   ]
  },
  {
   "cell_type": "code",
   "execution_count": 16,
   "metadata": {
    "scrolled": true
   },
   "outputs": [
    {
     "name": "stdout",
     "output_type": "stream",
     "text": [
      "\n",
      "No. 1 Model training! Total number of times 40!\n",
      "\n",
      "D:/Time_Series_Research/new_data/DJI/DJI_2008.csv\n",
      "\n",
      "\n"
     ]
    },
    {
     "name": "stderr",
     "output_type": "stream",
     "text": [
      "C:\\Users\\cooke\\.conda\\envs\\tfgpu\\lib\\site-packages\\statsmodels\\base\\model.py:548: HessianInversionWarning: Inverting hessian failed, no bse or cov_params available\n",
      "  'available', HessianInversionWarning)\n",
      "C:\\Users\\cooke\\.conda\\envs\\tfgpu\\lib\\site-packages\\statsmodels\\base\\model.py:568: ConvergenceWarning: Maximum Likelihood optimization failed to converge. Check mle_retvals\n",
      "  \"Check mle_retvals\", ConvergenceWarning)\n",
      "C:\\Users\\cooke\\.conda\\envs\\tfgpu\\lib\\site-packages\\statsmodels\\base\\model.py:548: HessianInversionWarning: Inverting hessian failed, no bse or cov_params available\n",
      "  'available', HessianInversionWarning)\n",
      "C:\\Users\\cooke\\.conda\\envs\\tfgpu\\lib\\site-packages\\statsmodels\\base\\model.py:568: ConvergenceWarning: Maximum Likelihood optimization failed to converge. Check mle_retvals\n",
      "  \"Check mle_retvals\", ConvergenceWarning)\n"
     ]
    },
    {
     "name": "stdout",
     "output_type": "stream",
     "text": [
      "No. 2 Model training! Total number of times 40!\n",
      "\n",
      "D:/Time_Series_Research/new_data/DJI/DJI_2008.csv\n",
      "\n",
      "\n",
      "No. 3 Model training! Total number of times 40!\n",
      "\n",
      "D:/Time_Series_Research/new_data/DJI/DJI_2008.csv\n",
      "\n"
     ]
    },
    {
     "name": "stderr",
     "output_type": "stream",
     "text": [
      "C:\\Users\\cooke\\.conda\\envs\\tfgpu\\lib\\site-packages\\statsmodels\\base\\model.py:548: HessianInversionWarning: Inverting hessian failed, no bse or cov_params available\n",
      "  'available', HessianInversionWarning)\n",
      "C:\\Users\\cooke\\.conda\\envs\\tfgpu\\lib\\site-packages\\statsmodels\\base\\model.py:568: ConvergenceWarning: Maximum Likelihood optimization failed to converge. Check mle_retvals\n",
      "  \"Check mle_retvals\", ConvergenceWarning)\n",
      "C:\\Users\\cooke\\.conda\\envs\\tfgpu\\lib\\site-packages\\statsmodels\\base\\model.py:548: HessianInversionWarning: Inverting hessian failed, no bse or cov_params available\n",
      "  'available', HessianInversionWarning)\n",
      "C:\\Users\\cooke\\.conda\\envs\\tfgpu\\lib\\site-packages\\statsmodels\\base\\model.py:568: ConvergenceWarning: Maximum Likelihood optimization failed to converge. Check mle_retvals\n",
      "  \"Check mle_retvals\", ConvergenceWarning)\n"
     ]
    },
    {
     "name": "stdout",
     "output_type": "stream",
     "text": [
      "\n",
      "No. 4 Model training! Total number of times 40!\n",
      "\n",
      "D:/Time_Series_Research/new_data/DJI/DJI_2008.csv\n",
      "\n",
      "\n",
      "No. 5 Model training! Total number of times 40!\n",
      "\n",
      "D:/Time_Series_Research/new_data/DJI/DJI_2008.csv\n",
      "\n",
      "\n",
      "No. 6 Model training! Total number of times 40!\n",
      "\n",
      "D:/Time_Series_Research/new_data/DJI/DJI_2008.csv\n",
      "\n"
     ]
    },
    {
     "name": "stderr",
     "output_type": "stream",
     "text": [
      "C:\\Users\\cooke\\.conda\\envs\\tfgpu\\lib\\site-packages\\statsmodels\\base\\model.py:548: HessianInversionWarning: Inverting hessian failed, no bse or cov_params available\n",
      "  'available', HessianInversionWarning)\n",
      "C:\\Users\\cooke\\.conda\\envs\\tfgpu\\lib\\site-packages\\statsmodels\\base\\model.py:568: ConvergenceWarning: Maximum Likelihood optimization failed to converge. Check mle_retvals\n",
      "  \"Check mle_retvals\", ConvergenceWarning)\n",
      "C:\\Users\\cooke\\.conda\\envs\\tfgpu\\lib\\site-packages\\statsmodels\\base\\model.py:548: HessianInversionWarning: Inverting hessian failed, no bse or cov_params available\n",
      "  'available', HessianInversionWarning)\n",
      "C:\\Users\\cooke\\.conda\\envs\\tfgpu\\lib\\site-packages\\statsmodels\\base\\model.py:568: ConvergenceWarning: Maximum Likelihood optimization failed to converge. Check mle_retvals\n",
      "  \"Check mle_retvals\", ConvergenceWarning)\n",
      "C:\\Users\\cooke\\.conda\\envs\\tfgpu\\lib\\site-packages\\statsmodels\\base\\model.py:548: HessianInversionWarning: Inverting hessian failed, no bse or cov_params available\n",
      "  'available', HessianInversionWarning)\n"
     ]
    },
    {
     "name": "stdout",
     "output_type": "stream",
     "text": [
      "\n",
      "No. 7 Model training! Total number of times 40!\n",
      "\n",
      "D:/Time_Series_Research/new_data/DJI/DJI_2008.csv\n",
      "\n"
     ]
    },
    {
     "name": "stderr",
     "output_type": "stream",
     "text": [
      "C:\\Users\\cooke\\.conda\\envs\\tfgpu\\lib\\site-packages\\statsmodels\\base\\model.py:568: ConvergenceWarning: Maximum Likelihood optimization failed to converge. Check mle_retvals\n",
      "  \"Check mle_retvals\", ConvergenceWarning)\n"
     ]
    },
    {
     "name": "stdout",
     "output_type": "stream",
     "text": [
      "\n",
      "No. 8 Model training! Total number of times 40!\n",
      "\n",
      "D:/Time_Series_Research/new_data/DJI/DJI_2008.csv\n",
      "\n"
     ]
    },
    {
     "name": "stderr",
     "output_type": "stream",
     "text": [
      "C:\\Users\\cooke\\.conda\\envs\\tfgpu\\lib\\site-packages\\statsmodels\\base\\model.py:548: HessianInversionWarning: Inverting hessian failed, no bse or cov_params available\n",
      "  'available', HessianInversionWarning)\n",
      "C:\\Users\\cooke\\.conda\\envs\\tfgpu\\lib\\site-packages\\statsmodels\\base\\model.py:568: ConvergenceWarning: Maximum Likelihood optimization failed to converge. Check mle_retvals\n",
      "  \"Check mle_retvals\", ConvergenceWarning)\n",
      "C:\\Users\\cooke\\.conda\\envs\\tfgpu\\lib\\site-packages\\statsmodels\\base\\model.py:548: HessianInversionWarning: Inverting hessian failed, no bse or cov_params available\n",
      "  'available', HessianInversionWarning)\n",
      "C:\\Users\\cooke\\.conda\\envs\\tfgpu\\lib\\site-packages\\statsmodels\\base\\model.py:568: ConvergenceWarning: Maximum Likelihood optimization failed to converge. Check mle_retvals\n",
      "  \"Check mle_retvals\", ConvergenceWarning)\n"
     ]
    },
    {
     "name": "stdout",
     "output_type": "stream",
     "text": [
      "\n",
      "No. 9 Model training! Total number of times 40!\n",
      "\n",
      "D:/Time_Series_Research/new_data/DJI/DJI_2008.csv\n",
      "\n",
      "\n",
      "No. 10 Model training! Total number of times 40!\n",
      "\n",
      "D:/Time_Series_Research/new_data/DJI/DJI_2008.csv\n",
      "\n"
     ]
    },
    {
     "name": "stderr",
     "output_type": "stream",
     "text": [
      "C:\\Users\\cooke\\.conda\\envs\\tfgpu\\lib\\site-packages\\statsmodels\\base\\model.py:548: HessianInversionWarning: Inverting hessian failed, no bse or cov_params available\n",
      "  'available', HessianInversionWarning)\n",
      "C:\\Users\\cooke\\.conda\\envs\\tfgpu\\lib\\site-packages\\statsmodels\\base\\model.py:568: ConvergenceWarning: Maximum Likelihood optimization failed to converge. Check mle_retvals\n",
      "  \"Check mle_retvals\", ConvergenceWarning)\n",
      "C:\\Users\\cooke\\.conda\\envs\\tfgpu\\lib\\site-packages\\statsmodels\\base\\model.py:548: HessianInversionWarning: Inverting hessian failed, no bse or cov_params available\n",
      "  'available', HessianInversionWarning)\n"
     ]
    },
    {
     "name": "stdout",
     "output_type": "stream",
     "text": [
      "\n",
      "No. 11 Model training! Total number of times 40!\n",
      "\n",
      "D:/Time_Series_Research/new_data/DJI/DJI_2008.csv\n",
      "\n"
     ]
    },
    {
     "name": "stderr",
     "output_type": "stream",
     "text": [
      "C:\\Users\\cooke\\.conda\\envs\\tfgpu\\lib\\site-packages\\statsmodels\\base\\model.py:568: ConvergenceWarning: Maximum Likelihood optimization failed to converge. Check mle_retvals\n",
      "  \"Check mle_retvals\", ConvergenceWarning)\n"
     ]
    },
    {
     "name": "stdout",
     "output_type": "stream",
     "text": [
      "\n",
      "No. 12 Model training! Total number of times 40!\n",
      "\n",
      "D:/Time_Series_Research/new_data/DJI/DJI_2008.csv\n",
      "\n"
     ]
    },
    {
     "name": "stderr",
     "output_type": "stream",
     "text": [
      "C:\\Users\\cooke\\.conda\\envs\\tfgpu\\lib\\site-packages\\statsmodels\\base\\model.py:548: HessianInversionWarning: Inverting hessian failed, no bse or cov_params available\n",
      "  'available', HessianInversionWarning)\n",
      "C:\\Users\\cooke\\.conda\\envs\\tfgpu\\lib\\site-packages\\statsmodels\\base\\model.py:568: ConvergenceWarning: Maximum Likelihood optimization failed to converge. Check mle_retvals\n",
      "  \"Check mle_retvals\", ConvergenceWarning)\n",
      "C:\\Users\\cooke\\.conda\\envs\\tfgpu\\lib\\site-packages\\statsmodels\\base\\model.py:548: HessianInversionWarning: Inverting hessian failed, no bse or cov_params available\n",
      "  'available', HessianInversionWarning)\n",
      "C:\\Users\\cooke\\.conda\\envs\\tfgpu\\lib\\site-packages\\statsmodels\\base\\model.py:568: ConvergenceWarning: Maximum Likelihood optimization failed to converge. Check mle_retvals\n",
      "  \"Check mle_retvals\", ConvergenceWarning)\n"
     ]
    },
    {
     "name": "stdout",
     "output_type": "stream",
     "text": [
      "\n",
      "No. 13 Model training! Total number of times 40!\n",
      "\n",
      "D:/Time_Series_Research/new_data/DJI/DJI_2008.csv\n",
      "\n",
      "\n",
      "No. 14 Model training! Total number of times 40!\n",
      "\n",
      "D:/Time_Series_Research/new_data/DJI/DJI_2008.csv\n",
      "\n"
     ]
    },
    {
     "name": "stderr",
     "output_type": "stream",
     "text": [
      "C:\\Users\\cooke\\.conda\\envs\\tfgpu\\lib\\site-packages\\statsmodels\\base\\model.py:548: HessianInversionWarning: Inverting hessian failed, no bse or cov_params available\n",
      "  'available', HessianInversionWarning)\n",
      "C:\\Users\\cooke\\.conda\\envs\\tfgpu\\lib\\site-packages\\statsmodels\\base\\model.py:568: ConvergenceWarning: Maximum Likelihood optimization failed to converge. Check mle_retvals\n",
      "  \"Check mle_retvals\", ConvergenceWarning)\n",
      "C:\\Users\\cooke\\.conda\\envs\\tfgpu\\lib\\site-packages\\statsmodels\\base\\model.py:548: HessianInversionWarning: Inverting hessian failed, no bse or cov_params available\n",
      "  'available', HessianInversionWarning)\n",
      "C:\\Users\\cooke\\.conda\\envs\\tfgpu\\lib\\site-packages\\statsmodels\\base\\model.py:568: ConvergenceWarning: Maximum Likelihood optimization failed to converge. Check mle_retvals\n",
      "  \"Check mle_retvals\", ConvergenceWarning)\n"
     ]
    },
    {
     "name": "stdout",
     "output_type": "stream",
     "text": [
      "\n",
      "No. 15 Model training! Total number of times 40!\n",
      "\n",
      "D:/Time_Series_Research/new_data/DJI/DJI_2008.csv\n",
      "\n",
      "\n",
      "No. 16 Model training! Total number of times 40!\n",
      "\n",
      "D:/Time_Series_Research/new_data/DJI/DJI_2008.csv\n",
      "\n"
     ]
    },
    {
     "name": "stderr",
     "output_type": "stream",
     "text": [
      "C:\\Users\\cooke\\.conda\\envs\\tfgpu\\lib\\site-packages\\statsmodels\\base\\model.py:548: HessianInversionWarning: Inverting hessian failed, no bse or cov_params available\n",
      "  'available', HessianInversionWarning)\n",
      "C:\\Users\\cooke\\.conda\\envs\\tfgpu\\lib\\site-packages\\statsmodels\\base\\model.py:568: ConvergenceWarning: Maximum Likelihood optimization failed to converge. Check mle_retvals\n",
      "  \"Check mle_retvals\", ConvergenceWarning)\n"
     ]
    },
    {
     "name": "stdout",
     "output_type": "stream",
     "text": [
      "\n",
      "No. 17 Model training! Total number of times 40!\n",
      "\n",
      "D:/Time_Series_Research/new_data/DJI/DJI_2008.csv\n",
      "\n"
     ]
    },
    {
     "name": "stderr",
     "output_type": "stream",
     "text": [
      "C:\\Users\\cooke\\.conda\\envs\\tfgpu\\lib\\site-packages\\statsmodels\\base\\model.py:548: HessianInversionWarning: Inverting hessian failed, no bse or cov_params available\n",
      "  'available', HessianInversionWarning)\n",
      "C:\\Users\\cooke\\.conda\\envs\\tfgpu\\lib\\site-packages\\statsmodels\\base\\model.py:568: ConvergenceWarning: Maximum Likelihood optimization failed to converge. Check mle_retvals\n",
      "  \"Check mle_retvals\", ConvergenceWarning)\n",
      "C:\\Users\\cooke\\.conda\\envs\\tfgpu\\lib\\site-packages\\statsmodels\\base\\model.py:548: HessianInversionWarning: Inverting hessian failed, no bse or cov_params available\n",
      "  'available', HessianInversionWarning)\n",
      "C:\\Users\\cooke\\.conda\\envs\\tfgpu\\lib\\site-packages\\statsmodels\\base\\model.py:568: ConvergenceWarning: Maximum Likelihood optimization failed to converge. Check mle_retvals\n",
      "  \"Check mle_retvals\", ConvergenceWarning)\n"
     ]
    },
    {
     "name": "stdout",
     "output_type": "stream",
     "text": [
      "\n",
      "No. 18 Model training! Total number of times 40!\n",
      "\n",
      "D:/Time_Series_Research/new_data/DJI/DJI_2008.csv\n",
      "\n",
      "\n",
      "No. 19 Model training! Total number of times 40!\n",
      "\n",
      "D:/Time_Series_Research/new_data/DJI/DJI_2008.csv\n",
      "\n"
     ]
    },
    {
     "name": "stderr",
     "output_type": "stream",
     "text": [
      "C:\\Users\\cooke\\.conda\\envs\\tfgpu\\lib\\site-packages\\statsmodels\\base\\model.py:548: HessianInversionWarning: Inverting hessian failed, no bse or cov_params available\n",
      "  'available', HessianInversionWarning)\n",
      "C:\\Users\\cooke\\.conda\\envs\\tfgpu\\lib\\site-packages\\statsmodels\\base\\model.py:568: ConvergenceWarning: Maximum Likelihood optimization failed to converge. Check mle_retvals\n",
      "  \"Check mle_retvals\", ConvergenceWarning)\n",
      "C:\\Users\\cooke\\.conda\\envs\\tfgpu\\lib\\site-packages\\statsmodels\\base\\model.py:548: HessianInversionWarning: Inverting hessian failed, no bse or cov_params available\n",
      "  'available', HessianInversionWarning)\n",
      "C:\\Users\\cooke\\.conda\\envs\\tfgpu\\lib\\site-packages\\statsmodels\\base\\model.py:568: ConvergenceWarning: Maximum Likelihood optimization failed to converge. Check mle_retvals\n",
      "  \"Check mle_retvals\", ConvergenceWarning)\n"
     ]
    },
    {
     "name": "stdout",
     "output_type": "stream",
     "text": [
      "\n",
      "No. 20 Model training! Total number of times 40!\n",
      "\n",
      "D:/Time_Series_Research/new_data/DJI/DJI_2008.csv\n",
      "\n",
      "\n",
      "No. 21 Model training! Total number of times 40!\n",
      "\n",
      "D:/Time_Series_Research/new_data/DJI/DJI_2008.csv\n",
      "\n"
     ]
    },
    {
     "name": "stderr",
     "output_type": "stream",
     "text": [
      "C:\\Users\\cooke\\.conda\\envs\\tfgpu\\lib\\site-packages\\statsmodels\\base\\model.py:548: HessianInversionWarning: Inverting hessian failed, no bse or cov_params available\n",
      "  'available', HessianInversionWarning)\n",
      "C:\\Users\\cooke\\.conda\\envs\\tfgpu\\lib\\site-packages\\statsmodels\\base\\model.py:568: ConvergenceWarning: Maximum Likelihood optimization failed to converge. Check mle_retvals\n",
      "  \"Check mle_retvals\", ConvergenceWarning)\n",
      "C:\\Users\\cooke\\.conda\\envs\\tfgpu\\lib\\site-packages\\statsmodels\\base\\model.py:548: HessianInversionWarning: Inverting hessian failed, no bse or cov_params available\n",
      "  'available', HessianInversionWarning)\n"
     ]
    },
    {
     "name": "stdout",
     "output_type": "stream",
     "text": [
      "\n",
      "No. 22 Model training! Total number of times 40!\n",
      "\n",
      "D:/Time_Series_Research/new_data/DJI/DJI_2008.csv\n",
      "\n"
     ]
    },
    {
     "name": "stderr",
     "output_type": "stream",
     "text": [
      "C:\\Users\\cooke\\.conda\\envs\\tfgpu\\lib\\site-packages\\statsmodels\\base\\model.py:568: ConvergenceWarning: Maximum Likelihood optimization failed to converge. Check mle_retvals\n",
      "  \"Check mle_retvals\", ConvergenceWarning)\n",
      "C:\\Users\\cooke\\.conda\\envs\\tfgpu\\lib\\site-packages\\statsmodels\\base\\model.py:548: HessianInversionWarning: Inverting hessian failed, no bse or cov_params available\n",
      "  'available', HessianInversionWarning)\n",
      "C:\\Users\\cooke\\.conda\\envs\\tfgpu\\lib\\site-packages\\statsmodels\\base\\model.py:568: ConvergenceWarning: Maximum Likelihood optimization failed to converge. Check mle_retvals\n",
      "  \"Check mle_retvals\", ConvergenceWarning)\n"
     ]
    },
    {
     "name": "stdout",
     "output_type": "stream",
     "text": [
      "\n",
      "No. 23 Model training! Total number of times 40!\n",
      "\n",
      "D:/Time_Series_Research/new_data/DJI/DJI_2008.csv\n",
      "\n",
      "\n",
      "No. 24 Model training! Total number of times 40!\n",
      "\n",
      "D:/Time_Series_Research/new_data/DJI/DJI_2008.csv\n",
      "\n"
     ]
    },
    {
     "name": "stderr",
     "output_type": "stream",
     "text": [
      "C:\\Users\\cooke\\.conda\\envs\\tfgpu\\lib\\site-packages\\statsmodels\\base\\model.py:548: HessianInversionWarning: Inverting hessian failed, no bse or cov_params available\n",
      "  'available', HessianInversionWarning)\n",
      "C:\\Users\\cooke\\.conda\\envs\\tfgpu\\lib\\site-packages\\statsmodels\\base\\model.py:568: ConvergenceWarning: Maximum Likelihood optimization failed to converge. Check mle_retvals\n",
      "  \"Check mle_retvals\", ConvergenceWarning)\n",
      "C:\\Users\\cooke\\.conda\\envs\\tfgpu\\lib\\site-packages\\statsmodels\\base\\model.py:548: HessianInversionWarning: Inverting hessian failed, no bse or cov_params available\n",
      "  'available', HessianInversionWarning)\n",
      "C:\\Users\\cooke\\.conda\\envs\\tfgpu\\lib\\site-packages\\statsmodels\\base\\model.py:568: ConvergenceWarning: Maximum Likelihood optimization failed to converge. Check mle_retvals\n",
      "  \"Check mle_retvals\", ConvergenceWarning)\n"
     ]
    },
    {
     "name": "stdout",
     "output_type": "stream",
     "text": [
      "\n",
      "No. 25 Model training! Total number of times 40!\n",
      "\n",
      "D:/Time_Series_Research/new_data/DJI/DJI_2008.csv\n",
      "\n",
      "\n",
      "No. 26 Model training! Total number of times 40!\n",
      "\n",
      "D:/Time_Series_Research/new_data/DJI/DJI_2008.csv\n",
      "\n"
     ]
    },
    {
     "name": "stderr",
     "output_type": "stream",
     "text": [
      "C:\\Users\\cooke\\.conda\\envs\\tfgpu\\lib\\site-packages\\statsmodels\\base\\model.py:548: HessianInversionWarning: Inverting hessian failed, no bse or cov_params available\n",
      "  'available', HessianInversionWarning)\n",
      "C:\\Users\\cooke\\.conda\\envs\\tfgpu\\lib\\site-packages\\statsmodels\\base\\model.py:568: ConvergenceWarning: Maximum Likelihood optimization failed to converge. Check mle_retvals\n",
      "  \"Check mle_retvals\", ConvergenceWarning)\n",
      "C:\\Users\\cooke\\.conda\\envs\\tfgpu\\lib\\site-packages\\statsmodels\\base\\model.py:548: HessianInversionWarning: Inverting hessian failed, no bse or cov_params available\n",
      "  'available', HessianInversionWarning)\n",
      "C:\\Users\\cooke\\.conda\\envs\\tfgpu\\lib\\site-packages\\statsmodels\\base\\model.py:568: ConvergenceWarning: Maximum Likelihood optimization failed to converge. Check mle_retvals\n",
      "  \"Check mle_retvals\", ConvergenceWarning)\n"
     ]
    },
    {
     "name": "stdout",
     "output_type": "stream",
     "text": [
      "\n",
      "No. 27 Model training! Total number of times 40!\n",
      "\n",
      "D:/Time_Series_Research/new_data/DJI/DJI_2008.csv\n",
      "\n",
      "\n",
      "No. 28 Model training! Total number of times 40!\n",
      "\n",
      "D:/Time_Series_Research/new_data/DJI/DJI_2008.csv\n",
      "\n"
     ]
    },
    {
     "name": "stderr",
     "output_type": "stream",
     "text": [
      "C:\\Users\\cooke\\.conda\\envs\\tfgpu\\lib\\site-packages\\statsmodels\\base\\model.py:548: HessianInversionWarning: Inverting hessian failed, no bse or cov_params available\n",
      "  'available', HessianInversionWarning)\n",
      "C:\\Users\\cooke\\.conda\\envs\\tfgpu\\lib\\site-packages\\statsmodels\\base\\model.py:568: ConvergenceWarning: Maximum Likelihood optimization failed to converge. Check mle_retvals\n",
      "  \"Check mle_retvals\", ConvergenceWarning)\n",
      "C:\\Users\\cooke\\.conda\\envs\\tfgpu\\lib\\site-packages\\statsmodels\\base\\model.py:548: HessianInversionWarning: Inverting hessian failed, no bse or cov_params available\n",
      "  'available', HessianInversionWarning)\n",
      "C:\\Users\\cooke\\.conda\\envs\\tfgpu\\lib\\site-packages\\statsmodels\\base\\model.py:568: ConvergenceWarning: Maximum Likelihood optimization failed to converge. Check mle_retvals\n",
      "  \"Check mle_retvals\", ConvergenceWarning)\n"
     ]
    },
    {
     "name": "stdout",
     "output_type": "stream",
     "text": [
      "\n",
      "No. 29 Model training! Total number of times 40!\n",
      "\n",
      "D:/Time_Series_Research/new_data/DJI/DJI_2008.csv\n",
      "\n",
      "\n",
      "No. 30 Model training! Total number of times 40!\n",
      "\n",
      "D:/Time_Series_Research/new_data/DJI/DJI_2008.csv\n",
      "\n"
     ]
    },
    {
     "name": "stderr",
     "output_type": "stream",
     "text": [
      "C:\\Users\\cooke\\.conda\\envs\\tfgpu\\lib\\site-packages\\statsmodels\\base\\model.py:548: HessianInversionWarning: Inverting hessian failed, no bse or cov_params available\n",
      "  'available', HessianInversionWarning)\n",
      "C:\\Users\\cooke\\.conda\\envs\\tfgpu\\lib\\site-packages\\statsmodels\\base\\model.py:568: ConvergenceWarning: Maximum Likelihood optimization failed to converge. Check mle_retvals\n",
      "  \"Check mle_retvals\", ConvergenceWarning)\n"
     ]
    },
    {
     "name": "stdout",
     "output_type": "stream",
     "text": [
      "\n",
      "No. 31 Model training! Total number of times 40!\n",
      "\n",
      "D:/Time_Series_Research/new_data/DJI/DJI_2008.csv\n",
      "\n"
     ]
    },
    {
     "name": "stderr",
     "output_type": "stream",
     "text": [
      "C:\\Users\\cooke\\.conda\\envs\\tfgpu\\lib\\site-packages\\statsmodels\\base\\model.py:548: HessianInversionWarning: Inverting hessian failed, no bse or cov_params available\n",
      "  'available', HessianInversionWarning)\n",
      "C:\\Users\\cooke\\.conda\\envs\\tfgpu\\lib\\site-packages\\statsmodels\\base\\model.py:568: ConvergenceWarning: Maximum Likelihood optimization failed to converge. Check mle_retvals\n",
      "  \"Check mle_retvals\", ConvergenceWarning)\n",
      "C:\\Users\\cooke\\.conda\\envs\\tfgpu\\lib\\site-packages\\statsmodels\\base\\model.py:548: HessianInversionWarning: Inverting hessian failed, no bse or cov_params available\n",
      "  'available', HessianInversionWarning)\n",
      "C:\\Users\\cooke\\.conda\\envs\\tfgpu\\lib\\site-packages\\statsmodels\\base\\model.py:568: ConvergenceWarning: Maximum Likelihood optimization failed to converge. Check mle_retvals\n",
      "  \"Check mle_retvals\", ConvergenceWarning)\n"
     ]
    },
    {
     "name": "stdout",
     "output_type": "stream",
     "text": [
      "\n",
      "No. 32 Model training! Total number of times 40!\n",
      "\n",
      "D:/Time_Series_Research/new_data/DJI/DJI_2008.csv\n",
      "\n",
      "\n",
      "No. 33 Model training! Total number of times 40!\n",
      "\n",
      "D:/Time_Series_Research/new_data/DJI/DJI_2008.csv\n",
      "\n"
     ]
    },
    {
     "name": "stderr",
     "output_type": "stream",
     "text": [
      "C:\\Users\\cooke\\.conda\\envs\\tfgpu\\lib\\site-packages\\statsmodels\\base\\model.py:548: HessianInversionWarning: Inverting hessian failed, no bse or cov_params available\n",
      "  'available', HessianInversionWarning)\n",
      "C:\\Users\\cooke\\.conda\\envs\\tfgpu\\lib\\site-packages\\statsmodels\\base\\model.py:568: ConvergenceWarning: Maximum Likelihood optimization failed to converge. Check mle_retvals\n",
      "  \"Check mle_retvals\", ConvergenceWarning)\n",
      "C:\\Users\\cooke\\.conda\\envs\\tfgpu\\lib\\site-packages\\statsmodels\\base\\model.py:548: HessianInversionWarning: Inverting hessian failed, no bse or cov_params available\n",
      "  'available', HessianInversionWarning)\n"
     ]
    },
    {
     "name": "stdout",
     "output_type": "stream",
     "text": [
      "\n",
      "No. 34 Model training! Total number of times 40!\n",
      "\n",
      "D:/Time_Series_Research/new_data/DJI/DJI_2008.csv\n",
      "\n"
     ]
    },
    {
     "name": "stderr",
     "output_type": "stream",
     "text": [
      "C:\\Users\\cooke\\.conda\\envs\\tfgpu\\lib\\site-packages\\statsmodels\\base\\model.py:568: ConvergenceWarning: Maximum Likelihood optimization failed to converge. Check mle_retvals\n",
      "  \"Check mle_retvals\", ConvergenceWarning)\n",
      "C:\\Users\\cooke\\.conda\\envs\\tfgpu\\lib\\site-packages\\statsmodels\\base\\model.py:548: HessianInversionWarning: Inverting hessian failed, no bse or cov_params available\n",
      "  'available', HessianInversionWarning)\n",
      "C:\\Users\\cooke\\.conda\\envs\\tfgpu\\lib\\site-packages\\statsmodels\\base\\model.py:568: ConvergenceWarning: Maximum Likelihood optimization failed to converge. Check mle_retvals\n",
      "  \"Check mle_retvals\", ConvergenceWarning)\n"
     ]
    },
    {
     "name": "stdout",
     "output_type": "stream",
     "text": [
      "\n",
      "No. 35 Model training! Total number of times 40!\n",
      "\n",
      "D:/Time_Series_Research/new_data/DJI/DJI_2008.csv\n",
      "\n",
      "\n",
      "No. 36 Model training! Total number of times 40!\n",
      "\n",
      "D:/Time_Series_Research/new_data/DJI/DJI_2008.csv\n",
      "\n",
      "\n",
      "No. 37 Model training! Total number of times 40!\n",
      "\n",
      "D:/Time_Series_Research/new_data/DJI/DJI_2008.csv\n",
      "\n"
     ]
    },
    {
     "name": "stderr",
     "output_type": "stream",
     "text": [
      "C:\\Users\\cooke\\.conda\\envs\\tfgpu\\lib\\site-packages\\statsmodels\\base\\model.py:548: HessianInversionWarning: Inverting hessian failed, no bse or cov_params available\n",
      "  'available', HessianInversionWarning)\n",
      "C:\\Users\\cooke\\.conda\\envs\\tfgpu\\lib\\site-packages\\statsmodels\\base\\model.py:568: ConvergenceWarning: Maximum Likelihood optimization failed to converge. Check mle_retvals\n",
      "  \"Check mle_retvals\", ConvergenceWarning)\n",
      "C:\\Users\\cooke\\.conda\\envs\\tfgpu\\lib\\site-packages\\statsmodels\\base\\model.py:548: HessianInversionWarning: Inverting hessian failed, no bse or cov_params available\n",
      "  'available', HessianInversionWarning)\n",
      "C:\\Users\\cooke\\.conda\\envs\\tfgpu\\lib\\site-packages\\statsmodels\\base\\model.py:568: ConvergenceWarning: Maximum Likelihood optimization failed to converge. Check mle_retvals\n",
      "  \"Check mle_retvals\", ConvergenceWarning)\n",
      "C:\\Users\\cooke\\.conda\\envs\\tfgpu\\lib\\site-packages\\statsmodels\\base\\model.py:548: HessianInversionWarning: Inverting hessian failed, no bse or cov_params available\n",
      "  'available', HessianInversionWarning)\n",
      "C:\\Users\\cooke\\.conda\\envs\\tfgpu\\lib\\site-packages\\statsmodels\\base\\model.py:568: ConvergenceWarning: Maximum Likelihood optimization failed to converge. Check mle_retvals\n",
      "  \"Check mle_retvals\", ConvergenceWarning)\n"
     ]
    },
    {
     "name": "stdout",
     "output_type": "stream",
     "text": [
      "\n",
      "No. 38 Model training! Total number of times 40!\n",
      "\n",
      "D:/Time_Series_Research/new_data/DJI/DJI_2008.csv\n",
      "\n",
      "\n",
      "No. 39 Model training! Total number of times 40!\n",
      "\n",
      "D:/Time_Series_Research/new_data/DJI/DJI_2008.csv\n",
      "\n"
     ]
    },
    {
     "name": "stderr",
     "output_type": "stream",
     "text": [
      "C:\\Users\\cooke\\.conda\\envs\\tfgpu\\lib\\site-packages\\statsmodels\\base\\model.py:548: HessianInversionWarning: Inverting hessian failed, no bse or cov_params available\n",
      "  'available', HessianInversionWarning)\n",
      "C:\\Users\\cooke\\.conda\\envs\\tfgpu\\lib\\site-packages\\statsmodels\\base\\model.py:568: ConvergenceWarning: Maximum Likelihood optimization failed to converge. Check mle_retvals\n",
      "  \"Check mle_retvals\", ConvergenceWarning)\n",
      "C:\\Users\\cooke\\.conda\\envs\\tfgpu\\lib\\site-packages\\statsmodels\\base\\model.py:548: HessianInversionWarning: Inverting hessian failed, no bse or cov_params available\n",
      "  'available', HessianInversionWarning)\n",
      "C:\\Users\\cooke\\.conda\\envs\\tfgpu\\lib\\site-packages\\statsmodels\\base\\model.py:568: ConvergenceWarning: Maximum Likelihood optimization failed to converge. Check mle_retvals\n",
      "  \"Check mle_retvals\", ConvergenceWarning)\n"
     ]
    },
    {
     "name": "stdout",
     "output_type": "stream",
     "text": [
      "\n",
      "No. 40 Model training! Total number of times 40!\n",
      "\n",
      "D:/Time_Series_Research/new_data/DJI/DJI_2008.csv\n",
      "\n"
     ]
    }
   ],
   "source": [
    "for i in range(0, all_length - split_no):\n",
    "    print()\n",
    "    print(f\"No. {i + 1} Model training! Total number of times {all_length - split_no}!\\n\")\n",
    "    print(fd_path + \"\\n\")\n",
    "    #training model\n",
    "    a = train_data \n",
    "    b = train_label\n",
    "\n",
    "    arima010 = ARIMA(endog = train_label,exog = train_data,order = (0,1,0))\n",
    "    model_fit = arima010.fit(disp = 0)\n",
    "\n",
    "    # fit network\n",
    "    #predicting\n",
    "    x = test_data[i, :]\n",
    "    x = x.reshape(1,x.shape[0])\n",
    "    forecast = model_fit.forecast(exog = x)\n",
    "    # new_test_label = np.concatenate([new_test_label,testPredict],axis = 0)\n",
    "    new_test_label.append(forecast[0])\n",
    "\n",
    "    #add next data\n",
    "    y = test_data[i, :]\n",
    "    y = y.reshape(1, y.shape[0])\n",
    "    train_data = np.concatenate([train_data, y], axis=0)\n",
    "    z = test_label[i].reshape(1, )\n",
    "    train_label = np.concatenate([train_label, z], axis=0)"
   ]
  },
  {
   "cell_type": "code",
   "execution_count": 17,
   "metadata": {},
   "outputs": [
    {
     "name": "stdout",
     "output_type": "stream",
     "text": [
      "Test RMSE: 0.0000\n",
      "Test MAPE: 0.0000\n"
     ]
    },
    {
     "data": {
      "image/png": "[encoded data removed]",
      "text/plain": [
       "<Figure size 432x288 with 1 Axes>"
      ]
     },
     "metadata": {
      "needs_background": "light"
     },
     "output_type": "display_data"
    }
   ],
   "source": [
    "new_test_label = np.array(new_test_label)\n",
    "\n",
    "test_label = test_label.reshape(test_label.shape[0],1)\n",
    "\n",
    "testScore = sqrt(mean_squared_error(test_label, new_test_label))\n",
    "print('Test RMSE: %.4f' % (testScore))\n",
    "\n",
    "mape = sum(np.abs((test_label - new_test_label)/test_label))/split_no*100\n",
    "print('Test MAPE: %.4f' % (mape))\n",
    "\n",
    "flg ,ax = plt.subplots(1,1)\n",
    "plt.plot(date_array[split_no:], test_label, color ='red', label ='Real Stock Price')\n",
    "plt.plot(date_array[split_no:], new_test_label, color ='blue', label ='Predicted Stock Price')\n",
    "plt.title('Stock Price Prediction')\n",
    "plt.xlabel('Time')\n",
    "plt.xticks(rotation = 30)\n",
    "plt.ylabel('Stock Price')\n",
    "plt.legend()\n",
    "plt.show()\n"
   ]
  },
  {
   "cell_type": "code",
   "execution_count": null,
   "metadata": {},
   "outputs": [],
   "source": []
  }
 ],
 "metadata": {
  "kernelspec": {
   "display_name": "Python 3",
   "language": "python",
   "name": "python3"
  },
  "language_info": {
   "codemirror_mode": {
    "name": "ipython",
    "version": 3
   },
   "file_extension": ".py",
   "mimetype": "text/x-python",
   "name": "python",
   "nbconvert_exporter": "python",
   "pygments_lexer": "ipython3",
   "version": "3.7.7"
  }
 },
 "nbformat": 4,
 "nbformat_minor": 4
}
